{
 "cells": [
  {
   "cell_type": "code",
   "execution_count": 33,
   "metadata": {},
   "outputs": [],
   "source": [
    "using UniversalTensorBoard"
   ]
  },
  {
   "cell_type": "code",
   "execution_count": 39,
   "metadata": {},
   "outputs": [
    {
     "data": {
      "text/plain": [
       "UniversalTensorBoard.TensorBoardSession(\"/home/wheel/oxinabox/.julia/v0.6/UniversalTensorBoard/docs/tensorboard_logs\", Session(Ptr{Void} @0x00007f59a03e1390), TensorFlow.summary.FileWriter(Future(2, 1, 6193, Nullable{Any}()), \"/home/wheel/oxinabox/.julia/v0.6/UniversalTensorBoard/docs/tensorboard_logs\"), 0)"
      ]
     },
     "execution_count": 39,
     "metadata": {},
     "output_type": "execute_result"
    }
   ],
   "source": [
    "reset_tb_logs()"
   ]
  },
  {
   "cell_type": "code",
   "execution_count": 40,
   "metadata": {},
   "outputs": [],
   "source": [
    "using UniversalTensorBoard\n",
    "\n",
    "best_ele = -1\n",
    "total = 0\n",
    "for (ii, ele) in enumerate(50rand(1_000))\n",
    "    if ele > best_ele\n",
    "        best_ele=ele\n",
    "        @tb_log best_ele\n",
    "    end\n",
    "    total+=ele\n",
    "    running_mean = total/ii\n",
    "    @tb_log running_mean\n",
    "end\n",
    "    "
   ]
  },
  {
   "cell_type": "code",
   "execution_count": 41,
   "metadata": {},
   "outputs": [],
   "source": [
    "for ii in 0:0.2:3\n",
    "    @tb_log randn(100)+ii\n",
    "end"
   ]
  },
  {
   "cell_type": "code",
   "execution_count": null,
   "metadata": {},
   "outputs": [],
   "source": [
    "set"
   ]
  }
 ],
 "metadata": {
  "kernelspec": {
   "display_name": "Julia 0.6.2",
   "language": "julia",
   "name": "julia-0.6"
  },
  "language_info": {
   "file_extension": ".jl",
   "mimetype": "application/julia",
   "name": "julia",
   "version": "0.6.2"
  }
 },
 "nbformat": 4,
 "nbformat_minor": 2
}
